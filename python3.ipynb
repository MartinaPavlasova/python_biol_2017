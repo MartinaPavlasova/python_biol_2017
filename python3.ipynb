{
 "cells": [
  {
   "cell_type": "code",
   "execution_count": 1,
   "metadata": {
    "collapsed": true
   },
   "outputs": [],
   "source": [
    "s= 'Král řekl Honzovi: \"Ta saň má 7 hlav! Zabij ji a dostaneš 1/2 království.\"'"
   ]
  },
  {
   "cell_type": "code",
   "execution_count": 2,
   "metadata": {},
   "outputs": [
    {
     "name": "stdout",
     "output_type": "stream",
     "text": [
      "Počet písmen 52\n",
      "Počet čísel 3\n",
      "Počet ostatních znaků 19\n"
     ]
    }
   ],
   "source": [
    "letter=0\n",
    "digit=0\n",
    "space=0\n",
    "other=0\n",
    "for i in s:\n",
    "    if i.isalpha():\n",
    "        letter+=1\n",
    "    elif i.isnumeric():\n",
    "        digit+=1\n",
    "    elif i.isspace():\n",
    "        space += 1\n",
    "    else:\n",
    "        other+=1\n",
    "print(\"Počet písmen\",letter)\n",
    "print(\"Počet čísel\",digit)\n",
    "print(\"Počet ostatních znaků\",space+other)"
   ]
  },
  {
   "cell_type": "code",
   "execution_count": 3,
   "metadata": {},
   "outputs": [
    {
     "name": "stdout",
     "output_type": "stream",
     "text": [
      "Zadejte věk kočky3\n"
     ]
    }
   ],
   "source": [
    "age=int(input('Zadejte věk kočky'))"
   ]
  },
  {
   "cell_type": "code",
   "execution_count": 5,
   "metadata": {},
   "outputs": [
    {
     "name": "stdout",
     "output_type": "stream",
     "text": [
      "věk kočky 30\n"
     ]
    }
   ],
   "source": [
    "humanAge=0\n",
    "if age == 1:\n",
    "    humanAge=18\n",
    "elif age == 2:\n",
    "    humanAge=(18+7)\n",
    "else:\n",
    "    humanAge=(18+7+(age-2)*5)\n",
    "print(\"věk kočky\",humanAge)"
   ]
  },
  {
   "cell_type": "code",
   "execution_count": null,
   "metadata": {
    "collapsed": true
   },
   "outputs": [],
   "source": []
  }
 ],
 "metadata": {
  "kernelspec": {
   "display_name": "Python 3",
   "language": "python",
   "name": "python3"
  },
  "language_info": {
   "codemirror_mode": {
    "name": "ipython",
    "version": 3
   },
   "file_extension": ".py",
   "mimetype": "text/x-python",
   "name": "python",
   "nbconvert_exporter": "python",
   "pygments_lexer": "ipython3",
   "version": "3.6.1"
  }
 },
 "nbformat": 4,
 "nbformat_minor": 2
}
