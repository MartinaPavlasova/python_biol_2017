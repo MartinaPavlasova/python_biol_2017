{
 "cells": [
  {
   "cell_type": "code",
   "execution_count": 1,
   "metadata": {
    "collapsed": true
   },
   "outputs": [],
   "source": [
    "apples=8"
   ]
  },
  {
   "cell_type": "code",
   "execution_count": 2,
   "metadata": {
    "collapsed": true
   },
   "outputs": [],
   "source": [
    "oranges=6"
   ]
  },
  {
   "cell_type": "code",
   "execution_count": 3,
   "metadata": {},
   "outputs": [
    {
     "name": "stdout",
     "output_type": "stream",
     "text": [
      "NOHTYP\n"
     ]
    }
   ],
   "source": [
    "print('N'+'O'+'H'+'T'+'Y'+'P')"
   ]
  },
  {
   "cell_type": "code",
   "execution_count": 4,
   "metadata": {},
   "outputs": [
    {
     "name": "stdout",
     "output_type": "stream",
     "text": [
      "Koupila jsem 8 jablek a 6 pomerančů, 6 jablek a 4 pomeranče jsem dala do společné mísy. Zbyly mi 2 jablka a 2 pomeranče, tj. 4 kusy ovoce.\n"
     ]
    }
   ],
   "source": [
    "print('Koupila jsem {} jablek a {} pomerančů, {} jablek a {} pomeranče jsem dala do společné mísy. Zbyly mi {} jablka a {} pomeranče, tj. {} kusy ovoce.'.format(apples,oranges,int((3*apples/4)),int((2*oranges)/3),(apples-6),(oranges-4),((apples-6)+(oranges-4))) )"
   ]
  },
  {
   "cell_type": "code",
   "execution_count": null,
   "metadata": {
    "collapsed": true
   },
   "outputs": [],
   "source": []
  }
 ],
 "metadata": {
  "kernelspec": {
   "display_name": "Python 3",
   "language": "python",
   "name": "python3"
  },
  "language_info": {
   "codemirror_mode": {
    "name": "ipython",
    "version": 3
   },
   "file_extension": ".py",
   "mimetype": "text/x-python",
   "name": "python",
   "nbconvert_exporter": "python",
   "pygments_lexer": "ipython3",
   "version": "3.6.1"
  }
 },
 "nbformat": 4,
 "nbformat_minor": 2
}
